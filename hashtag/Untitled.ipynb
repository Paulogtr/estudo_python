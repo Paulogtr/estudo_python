{
 "cells": [
  {
   "cell_type": "code",
   "execution_count": 13,
   "id": "14cfbfca-c2dd-48e1-9e74-6bdf757e6416",
   "metadata": {},
   "outputs": [
    {
     "name": "stdout",
     "output_type": "stream",
     "text": [
      "janeiro\n",
      "fevereiro\n",
      "março\n",
      "abril\n",
      "maio\n",
      "No mês maio alguém bateu a meta. Vendedor: Hash, Vendas: 57312 \n",
      "junho\n"
     ]
    }
   ],
   "source": [
    "import pandas as pd\n",
    "\n",
    "lista_meses = ['janeiro','fevereiro','março','abril','maio','junho']\n",
    "\n",
    "for mes in lista_meses:\n",
    "    print(mes)\n",
    "    tabela_vendas = pd.read_excel(f\"{mes}.xlsx\")\n",
    "    if (tabela_vendas['Vendas'] > 55000).any():\n",
    "        vendedor = tabela_vendas.loc[tabela_vendas['Vendas'] > 55000, 'Vendedor'].values[0]\n",
    "        vendas = tabela_vendas.loc[tabela_vendas['Vendas'] > 55000, 'Vendas'].values[0]\n",
    "        print(f'No mês {mes} alguém bateu a meta. Vendedor: {vendedor}, Vendas: {vendas} ')\n"
   ]
  },
  {
   "cell_type": "code",
   "execution_count": null,
   "id": "90f9de1e-7cab-42ba-a22f-7ea6efae410a",
   "metadata": {},
   "outputs": [],
   "source": []
  },
  {
   "cell_type": "code",
   "execution_count": null,
   "id": "4a5686dc-dce1-4c11-9081-23f52d15592d",
   "metadata": {},
   "outputs": [],
   "source": []
  }
 ],
 "metadata": {
  "kernelspec": {
   "display_name": "Python 3 (ipykernel)",
   "language": "python",
   "name": "python3"
  },
  "language_info": {
   "codemirror_mode": {
    "name": "ipython",
    "version": 3
   },
   "file_extension": ".py",
   "mimetype": "text/x-python",
   "name": "python",
   "nbconvert_exporter": "python",
   "pygments_lexer": "ipython3",
   "version": "3.11.1"
  }
 },
 "nbformat": 4,
 "nbformat_minor": 5
}
